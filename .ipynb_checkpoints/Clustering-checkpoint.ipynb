{
 "cells": [
  {
   "cell_type": "markdown",
   "metadata": {},
   "source": [
    "## Using Kmeans to cluster animals based on features"
   ]
  },
  {
   "cell_type": "markdown",
   "metadata": {},
   "source": [
    "This is a small data set that has information about 50 animals. The animals are listed in classes.txt.\n",
    "\n",
    "For each animal, the information consists of values for 85 features: does the animal have a tail, is it\n",
    "\n",
    "slow, does it have tusks, etc. The details of the features are in predicates.txt. The full data consists\n",
    "\n",
    "of a 50 × 85 matrix of real values, in predicate-matrix-continuous.txt."
   ]
  },
  {
   "cell_type": "code",
   "execution_count": 1,
   "metadata": {
    "collapsed": false
   },
   "outputs": [],
   "source": [
    "%matplotlib inline\n",
    "import numpy as np\n",
    "from sklearn.cluster import KMeans\n",
    "import pandas as pd\n",
    "from scipy.cluster.hierarchy import dendrogram, linkage\n",
    "from pylab import rcParams"
   ]
  },
  {
   "cell_type": "code",
   "execution_count": 2,
   "metadata": {
    "collapsed": false
   },
   "outputs": [
    {
     "name": "stdout",
     "output_type": "stream",
     "text": [
      "(50, 85)\n"
     ]
    },
    {
     "data": {
      "text/plain": [
       "array([[ -1.  ,  -1.  ,  -1.  , ...,   2.35,   9.7 ,   8.38],\n",
       "       [ 39.25,   1.39,   0.  , ...,  58.64,  20.14,  11.39],\n",
       "       [ 83.4 ,  64.79,   0.  , ...,  15.77,  13.41,  15.42],\n",
       "       ..., \n",
       "       [ 63.57,  43.1 ,   0.  , ...,  35.95,  28.26,   5.  ],\n",
       "       [ 55.31,  55.46,   0.  , ...,   5.04,  18.89,  72.99],\n",
       "       [ 10.22,  21.53,  27.73, ...,   3.96,  14.05,  37.98]])"
      ]
     },
     "execution_count": 2,
     "metadata": {},
     "output_type": "execute_result"
    }
   ],
   "source": [
    "samples_features = pd.read_fwf(\"predicate-matrix-continuous.txt\", header=None).values\n",
    "print samples_features.shape\n",
    "\n",
    "samples_features"
   ]
  },
  {
   "cell_type": "code",
   "execution_count": 3,
   "metadata": {
    "collapsed": false
   },
   "outputs": [
    {
     "data": {
      "text/plain": [
       "array(['antelope', 'grizzly+bear', 'killer+whale', 'beaver', 'dalmatian',\n",
       "       'persian+cat', 'horse', 'german+shepherd', 'blue+whale',\n",
       "       'siamese+cat', 'skunk', 'mole', 'tiger', 'hippopotamus', 'leopard',\n",
       "       'moose', 'spider+monkey', 'humpback+whale', 'elephant', 'gorilla',\n",
       "       'ox', 'fox', 'sheep', 'seal', 'chimpanzee', 'hamster', 'squirrel',\n",
       "       'rhinoceros', 'rabbit', 'bat', 'giraffe', 'wolf', 'chihuahua',\n",
       "       'rat', 'weasel', 'otter', 'buffalo', 'zebra', 'giant+panda', 'deer',\n",
       "       'bobcat', 'pig', 'lion', 'mouse', 'polar+bear', 'collie', 'walrus',\n",
       "       'raccoon', 'cow', 'dolphin'], dtype=object)"
      ]
     },
     "execution_count": 3,
     "metadata": {},
     "output_type": "execute_result"
    }
   ],
   "source": [
    "animalclasses=pd.read_fwf(\"classes.txt\", header=None)[1].values\n",
    "animalclasses"
   ]
  },
  {
   "cell_type": "code",
   "execution_count": 4,
   "metadata": {
    "collapsed": false
   },
   "outputs": [],
   "source": [
    "feature_names=pd.read_fwf(\"predicates.txt\", header=None)[1].values\n",
    "classes_features = pd.DataFrame(data = samples_features, columns = feature_names)\n",
    "classes_features.index = animalclasses"
   ]
  },
  {
   "cell_type": "code",
   "execution_count": 6,
   "metadata": {
    "collapsed": false
   },
   "outputs": [
    {
     "data": {
      "text/plain": [
       "{0: ['dalmatian',\n",
       "  'persian+cat',\n",
       "  'german+shepherd',\n",
       "  'siamese+cat',\n",
       "  'chihuahua',\n",
       "  'weasel',\n",
       "  'collie'],\n",
       " 1: ['hippopotamus',\n",
       "  'moose',\n",
       "  'elephant',\n",
       "  'ox',\n",
       "  'sheep',\n",
       "  'rhinoceros',\n",
       "  'buffalo',\n",
       "  'giant+panda',\n",
       "  'pig',\n",
       "  'cow'],\n",
       " 2: ['killer+whale',\n",
       "  'blue+whale',\n",
       "  'humpback+whale',\n",
       "  'seal',\n",
       "  'otter',\n",
       "  'walrus',\n",
       "  'dolphin'],\n",
       " 3: ['spider+monkey', 'gorilla', 'chimpanzee'],\n",
       " 4: ['skunk', 'fox', 'rat', 'raccoon'],\n",
       " 5: ['grizzly+bear', 'polar+bear'],\n",
       " 6: ['tiger', 'leopard', 'wolf', 'bobcat', 'lion'],\n",
       " 7: ['antelope', 'horse', 'giraffe', 'zebra', 'deer'],\n",
       " 8: ['beaver', 'mole', 'hamster', 'squirrel', 'rabbit', 'mouse'],\n",
       " 9: ['bat']}"
      ]
     },
     "execution_count": 6,
     "metadata": {},
     "output_type": "execute_result"
    }
   ],
   "source": [
    "clf=KMeans(init='k-means++', n_clusters=10, n_init=10)\n",
    "clf.fit(samples_features, animalclasses) #samples_features is a samples by features matrix\n",
    "clusters = clf.predict(samples_features) # clusters are int32 from 0-9 for n_clusters = 10\n",
    "\n",
    "grouping = {i:[] for i in xrange(0,10)}\n",
    "\n",
    "for i,animal in enumerate(animalclasses):\n",
    "    grouping[clusters[i]].append(animal)\n",
    "grouping"
   ]
  },
  {
   "cell_type": "code",
   "execution_count": 7,
   "metadata": {
    "collapsed": false
   },
   "outputs": [
    {
     "data": {
      "text/plain": [
       "[u'agg.path.chunksize',\n",
       " u'animation.avconv_args',\n",
       " u'animation.avconv_path',\n",
       " u'animation.bitrate',\n",
       " u'animation.codec',\n",
       " u'animation.convert_args',\n",
       " u'animation.convert_path',\n",
       " u'animation.ffmpeg_args',\n",
       " u'animation.ffmpeg_path',\n",
       " u'animation.frame_format',\n",
       " u'animation.html',\n",
       " u'animation.mencoder_args',\n",
       " u'animation.mencoder_path',\n",
       " u'animation.writer',\n",
       " u'axes.axisbelow',\n",
       " u'axes.edgecolor',\n",
       " u'axes.facecolor',\n",
       " u'axes.formatter.limits',\n",
       " u'axes.formatter.use_locale',\n",
       " u'axes.formatter.use_mathtext',\n",
       " u'axes.formatter.useoffset',\n",
       " u'axes.grid',\n",
       " u'axes.grid.axis',\n",
       " u'axes.grid.which',\n",
       " u'axes.hold',\n",
       " u'axes.labelcolor',\n",
       " u'axes.labelpad',\n",
       " u'axes.labelsize',\n",
       " u'axes.labelweight',\n",
       " u'axes.linewidth',\n",
       " u'axes.prop_cycle',\n",
       " u'axes.spines.bottom',\n",
       " u'axes.spines.left',\n",
       " u'axes.spines.right',\n",
       " u'axes.spines.top',\n",
       " u'axes.titlesize',\n",
       " u'axes.titleweight',\n",
       " u'axes.unicode_minus',\n",
       " u'axes.xmargin',\n",
       " u'axes.ymargin',\n",
       " u'axes3d.grid',\n",
       " u'backend',\n",
       " u'backend.qt4',\n",
       " u'backend.qt5',\n",
       " u'backend_fallback',\n",
       " u'boxplot.bootstrap',\n",
       " u'boxplot.boxprops.color',\n",
       " u'boxplot.boxprops.linestyle',\n",
       " u'boxplot.boxprops.linewidth',\n",
       " u'boxplot.capprops.color',\n",
       " u'boxplot.capprops.linestyle',\n",
       " u'boxplot.capprops.linewidth',\n",
       " u'boxplot.flierprops.color',\n",
       " u'boxplot.flierprops.linestyle',\n",
       " u'boxplot.flierprops.linewidth',\n",
       " u'boxplot.flierprops.marker',\n",
       " u'boxplot.flierprops.markeredgecolor',\n",
       " u'boxplot.flierprops.markerfacecolor',\n",
       " u'boxplot.flierprops.markersize',\n",
       " u'boxplot.meanline',\n",
       " u'boxplot.meanprops.color',\n",
       " u'boxplot.meanprops.linestyle',\n",
       " u'boxplot.meanprops.linewidth',\n",
       " u'boxplot.medianprops.color',\n",
       " u'boxplot.medianprops.linestyle',\n",
       " u'boxplot.medianprops.linewidth',\n",
       " u'boxplot.notch',\n",
       " u'boxplot.patchartist',\n",
       " u'boxplot.showbox',\n",
       " u'boxplot.showcaps',\n",
       " u'boxplot.showfliers',\n",
       " u'boxplot.showmeans',\n",
       " u'boxplot.vertical',\n",
       " u'boxplot.whiskerprops.color',\n",
       " u'boxplot.whiskerprops.linestyle',\n",
       " u'boxplot.whiskerprops.linewidth',\n",
       " u'boxplot.whiskers',\n",
       " u'contour.corner_mask',\n",
       " u'contour.negative_linestyle',\n",
       " u'datapath',\n",
       " u'docstring.hardcopy',\n",
       " u'errorbar.capsize',\n",
       " u'examples.directory',\n",
       " u'figure.autolayout',\n",
       " u'figure.dpi',\n",
       " u'figure.edgecolor',\n",
       " u'figure.facecolor',\n",
       " u'figure.figsize',\n",
       " u'figure.frameon',\n",
       " u'figure.max_open_warning',\n",
       " u'figure.subplot.bottom',\n",
       " u'figure.subplot.hspace',\n",
       " u'figure.subplot.left',\n",
       " u'figure.subplot.right',\n",
       " u'figure.subplot.top',\n",
       " u'figure.subplot.wspace',\n",
       " u'figure.titlesize',\n",
       " u'figure.titleweight',\n",
       " u'font.cursive',\n",
       " u'font.family',\n",
       " u'font.fantasy',\n",
       " u'font.monospace',\n",
       " u'font.sans-serif',\n",
       " u'font.serif',\n",
       " u'font.size',\n",
       " u'font.stretch',\n",
       " u'font.style',\n",
       " u'font.variant',\n",
       " u'font.weight',\n",
       " u'grid.alpha',\n",
       " u'grid.color',\n",
       " u'grid.linestyle',\n",
       " u'grid.linewidth',\n",
       " u'image.aspect',\n",
       " u'image.cmap',\n",
       " u'image.composite_image',\n",
       " u'image.interpolation',\n",
       " u'image.lut',\n",
       " u'image.origin',\n",
       " u'image.resample',\n",
       " u'interactive',\n",
       " u'keymap.all_axes',\n",
       " u'keymap.back',\n",
       " u'keymap.forward',\n",
       " u'keymap.fullscreen',\n",
       " u'keymap.grid',\n",
       " u'keymap.home',\n",
       " u'keymap.pan',\n",
       " u'keymap.quit',\n",
       " u'keymap.save',\n",
       " u'keymap.xscale',\n",
       " u'keymap.yscale',\n",
       " u'keymap.zoom',\n",
       " u'legend.borderaxespad',\n",
       " u'legend.borderpad',\n",
       " u'legend.columnspacing',\n",
       " u'legend.edgecolor',\n",
       " u'legend.facecolor',\n",
       " u'legend.fancybox',\n",
       " u'legend.fontsize',\n",
       " u'legend.framealpha',\n",
       " u'legend.frameon',\n",
       " u'legend.handleheight',\n",
       " u'legend.handlelength',\n",
       " u'legend.handletextpad',\n",
       " u'legend.isaxes',\n",
       " u'legend.labelspacing',\n",
       " u'legend.loc',\n",
       " u'legend.markerscale',\n",
       " u'legend.numpoints',\n",
       " u'legend.scatterpoints',\n",
       " u'legend.shadow',\n",
       " u'lines.antialiased',\n",
       " u'lines.color',\n",
       " u'lines.dash_capstyle',\n",
       " u'lines.dash_joinstyle',\n",
       " u'lines.linestyle',\n",
       " u'lines.linewidth',\n",
       " u'lines.marker',\n",
       " u'lines.markeredgewidth',\n",
       " u'lines.markersize',\n",
       " u'lines.solid_capstyle',\n",
       " u'lines.solid_joinstyle',\n",
       " u'markers.fillstyle',\n",
       " u'mathtext.bf',\n",
       " u'mathtext.cal',\n",
       " u'mathtext.default',\n",
       " u'mathtext.fallback_to_cm',\n",
       " u'mathtext.fontset',\n",
       " u'mathtext.it',\n",
       " u'mathtext.rm',\n",
       " u'mathtext.sf',\n",
       " u'mathtext.tt',\n",
       " u'nbagg.transparent',\n",
       " u'patch.antialiased',\n",
       " u'patch.edgecolor',\n",
       " u'patch.facecolor',\n",
       " u'patch.linewidth',\n",
       " u'path.effects',\n",
       " u'path.simplify',\n",
       " u'path.simplify_threshold',\n",
       " u'path.sketch',\n",
       " u'path.snap',\n",
       " u'pdf.compression',\n",
       " u'pdf.fonttype',\n",
       " u'pdf.inheritcolor',\n",
       " u'pdf.use14corefonts',\n",
       " u'pgf.debug',\n",
       " u'pgf.preamble',\n",
       " u'pgf.rcfonts',\n",
       " u'pgf.texsystem',\n",
       " u'plugins.directory',\n",
       " u'polaraxes.grid',\n",
       " u'ps.distiller.res',\n",
       " u'ps.fonttype',\n",
       " u'ps.papersize',\n",
       " u'ps.useafm',\n",
       " u'ps.usedistiller',\n",
       " u'savefig.bbox',\n",
       " u'savefig.directory',\n",
       " u'savefig.dpi',\n",
       " u'savefig.edgecolor',\n",
       " u'savefig.facecolor',\n",
       " u'savefig.format',\n",
       " u'savefig.frameon',\n",
       " u'savefig.jpeg_quality',\n",
       " u'savefig.orientation',\n",
       " u'savefig.pad_inches',\n",
       " u'savefig.transparent',\n",
       " u'svg.fonttype',\n",
       " u'svg.image_inline',\n",
       " u'svg.image_noscale',\n",
       " u'text.antialiased',\n",
       " u'text.color',\n",
       " u'text.dvipnghack',\n",
       " u'text.hinting',\n",
       " u'text.hinting_factor',\n",
       " u'text.latex.preamble',\n",
       " u'text.latex.preview',\n",
       " u'text.latex.unicode',\n",
       " u'text.usetex',\n",
       " u'timezone',\n",
       " u'tk.window_focus',\n",
       " u'toolbar',\n",
       " u'verbose.fileo',\n",
       " u'verbose.level',\n",
       " u'webagg.open_in_browser',\n",
       " u'webagg.port',\n",
       " u'webagg.port_retries',\n",
       " u'xtick.color',\n",
       " u'xtick.direction',\n",
       " u'xtick.labelsize',\n",
       " u'xtick.major.pad',\n",
       " u'xtick.major.size',\n",
       " u'xtick.major.width',\n",
       " u'xtick.minor.pad',\n",
       " u'xtick.minor.size',\n",
       " u'xtick.minor.visible',\n",
       " u'xtick.minor.width',\n",
       " u'ytick.color',\n",
       " u'ytick.direction',\n",
       " u'ytick.labelsize',\n",
       " u'ytick.major.pad',\n",
       " u'ytick.major.size',\n",
       " u'ytick.major.width',\n",
       " u'ytick.minor.pad',\n",
       " u'ytick.minor.size',\n",
       " u'ytick.minor.visible',\n",
       " u'ytick.minor.width']"
      ]
     },
     "execution_count": 7,
     "metadata": {},
     "output_type": "execute_result"
    }
   ],
   "source": [
    "rcParams.keys()"
   ]
  },
  {
   "cell_type": "code",
   "execution_count": 9,
   "metadata": {
    "collapsed": false,
    "scrolled": false
   },
   "outputs": [
    {
     "data": {
      "image/png": "[encoded data removed]",
      "text/plain": [
       "<matplotlib.figure.Figure at 0x118868e90>"
      ]
     },
     "metadata": {},
     "output_type": "display_data"
    }
   ],
   "source": [
    "z = linkage(samples_features, method='ward');\n",
    "\n",
    "dendrogram(z, orientation= \"right\", labels=animalclasses)\n",
    "rcParams['figure.figsize']=[20,20]\n",
    "rcParams['lines.linewidth'] = 2"
   ]
  },
  {
   "cell_type": "code",
   "execution_count": null,
   "metadata": {
    "collapsed": true
   },
   "outputs": [],
   "source": []
  },
  {
   "cell_type": "code",
   "execution_count": null,
   "metadata": {
    "collapsed": true
   },
   "outputs": [],
   "source": []
  }
 ],
 "metadata": {
  "anaconda-cloud": {},
  "kernelspec": {
   "display_name": "Python 3",
   "language": "python",
   "name": "python3"
  },
  "language_info": {
   "codemirror_mode": {
    "name": "ipython",
    "version": 3
   },
   "file_extension": ".py",
   "mimetype": "text/x-python",
   "name": "python",
   "nbconvert_exporter": "python",
   "pygments_lexer": "ipython3",
   "version": "3.6.0"
  }
 },
 "nbformat": 4,
 "nbformat_minor": 1
}
