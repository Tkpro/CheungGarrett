{
 "cells": [
  {
   "cell_type": "markdown",
   "metadata": {},
   "source": [
    "# Lecture4 Exercises"
   ]
  },
  {
   "cell_type": "markdown",
   "metadata": {},
   "source": [
    "## Functional Programming\n",
    "\n",
    "Use the [map](https://docs.python.org/2/library/functions.html#map) and [filter](https://docs.python.org/2/library/functions.html#filter) functions to convert the list `l = [0,1,2,3,4,5,6,7,8,9,10]` into a list of the squares of the even numbers in `l`.\n",
    "\n",
    "Hints:\n",
    "\n",
    "1. Use map() to apply a function to each element in the list\n",
    "2. Use filter() to filter elements of a list\n",
    "3. Use lambda to define anonymous functions\n",
    "4. *Do not* use list comprehensions"
   ]
  },
  {
   "cell_type": "code",
   "execution_count": 1,
   "metadata": {
    "collapsed": false
   },
   "outputs": [
    {
     "data": {
      "text/plain": [
       "[0, 4, 16, 36, 64, 100]"
      ]
     },
     "execution_count": 1,
     "metadata": {},
     "output_type": "execute_result"
    }
   ],
   "source": [
    "l = [0,1,2,3,4,5,6,7,8,9,10]\n",
    "even_l = filter(lambda x:x%2<1,l)\n",
    "map(lambda x:x*x, even_l)"
   ]
  },
  {
   "cell_type": "markdown",
   "metadata": {},
   "source": [
    "### Object Oriented Programming"
   ]
  },
  {
   "cell_type": "markdown",
   "metadata": {},
   "source": [
    "Implement a Python iterator which iterates over string characters (ASCII only) returning their ASCII code\n",
    "\n",
    "1. Define a new iterator class which contains two methods:\n",
    "\n",
    "    -init – a constructor taking the ASCII string as a argument\n",
    "    \n",
    "    -next – returns the ASCII code of the next character or raises a StopIteration exception if the string end was encountered.\n",
    "\n",
    "\n",
    "2. Define a new iterable class which wraps around a string and contains iter method which returns the iterator instance.\n",
    "3. Test your code using explicit calls of next method (see example in the lecture) and for loop."
   ]
  },
  {
   "cell_type": "code",
   "execution_count": 2,
   "metadata": {
    "collapsed": false
   },
   "outputs": [],
   "source": [
    "class StringIterator:\n",
    "    def __init__(self, string):\n",
    "        self.string = string\n",
    "        self.index = 0\n",
    "    \n",
    "    def next(self):\n",
    "        try:\n",
    "            result = self.string[self.index]\n",
    "        except IndexError:\n",
    "            raise StopIteration\n",
    "        self.index +=1\n",
    "        return ord(result)\n",
    "    \n",
    "class StringIterable:\n",
    "    def __init__(self,string):\n",
    "        self.string = string\n",
    "    \n",
    "    def __iter__(self):\n",
    "        for i in self.string:\n",
    "            yield i"
   ]
  },
  {
   "cell_type": "code",
   "execution_count": 3,
   "metadata": {
    "collapsed": false
   },
   "outputs": [
    {
     "name": "stdout",
     "output_type": "stream",
     "text": [
      "79\n",
      "98\n",
      "106\n",
      "101\n",
      "99\n",
      "116\n",
      "32\n",
      "79\n",
      "114\n",
      "105\n",
      "101\n",
      "110\n",
      "116\n",
      "101\n",
      "100\n",
      "32\n",
      "80\n",
      "114\n",
      "111\n",
      "103\n",
      "114\n",
      "97\n",
      "109\n",
      "109\n",
      "105\n",
      "110\n",
      "103\n",
      "O\n",
      "b\n",
      "j\n",
      "e\n",
      "c\n",
      "t\n",
      " \n",
      "O\n",
      "r\n",
      "i\n",
      "e\n",
      "n\n",
      "t\n",
      "e\n",
      "d\n",
      " \n",
      "P\n",
      "r\n",
      "o\n",
      "g\n",
      "r\n",
      "a\n",
      "m\n",
      "m\n",
      "i\n",
      "n\n",
      "g\n"
     ]
    }
   ],
   "source": [
    "test = StringIterator(\"Object Oriented Programming\")\n",
    "for i in range(len(str('object oriented programming'))):\n",
    "               print(test.next())\n",
    "        \n",
    "test2 = StringIterable('Object Oriented Programming')\n",
    "for j in test2:\n",
    "    print(j)"
   ]
  },
  {
   "cell_type": "markdown",
   "metadata": {},
   "source": [
    "## Fibonacci Sequence\n",
    "\n",
    "write a class Fibonacci whose constructor takes two numbers; the class uses these two numbers as the first two numbers in the sequence. \n",
    "\n",
    "1. The class should have a method calculate(n) that returns the n-th number in the sequence.\n",
    "2. Add a method next(). The first call to next() returns the first number in the sequence, the second call returns the second number, and so on. You'll need instance variables to save state between calls. \n",
    "3. Finally, add a method writeToFile(n, filename), that writes the first n numbers in the sequence to the file named filename, one number per line.\n",
    "\n",
    "**HINT:** you should store previously computed fibonachi numbers instead of recomputing every one as they are needed"
   ]
  },
  {
   "cell_type": "code",
   "execution_count": 4,
   "metadata": {
    "collapsed": false
   },
   "outputs": [],
   "source": [
    "class Fibonacci:\n",
    "    def __init__(self):\n",
    "        self.a = 0\n",
    "        self.b = 1\n",
    "        self.n = None\n",
    "        self.answers = [0,1]\n",
    "        self.i = 0 ##spot in the fibbonacci sequence\n",
    "    \n",
    "    def next(self):\n",
    "        x = self.calculate(self.i)\n",
    "        self.i +=1\n",
    "        return(x)\n",
    "        #print('next', int(x))\n",
    "        \n",
    "    def calculate(self, n):\n",
    "        a = self.a\n",
    "        b = self.b\n",
    "#         answer = self.answers\n",
    "        a = 0\n",
    "        b = 1\n",
    "        for i in range(n):\n",
    "            a,b = b,a+b\n",
    "#             self.answers.append(b)\n",
    "        #print('calculate', a)\n",
    "        return int(a)\n",
    "\n",
    "    def writeToFile(self, n, filename):\n",
    "        i = 0\n",
    "        f = open(filename,'w')\n",
    "        while i<n:\n",
    "            x = str(self.calculate(i))\n",
    "            f.write(x + ',')\n",
    "            i +=1\n",
    "        #raise(\"Todo\")"
   ]
  },
  {
   "cell_type": "code",
   "execution_count": 5,
   "metadata": {
    "collapsed": false
   },
   "outputs": [
    {
     "name": "stdout",
     "output_type": "stream",
     "text": [
      "True\n",
      "True\n",
      "True\n",
      "True\n",
      "True\n",
      "True\n",
      "True\n",
      "True\n"
     ]
    }
   ],
   "source": [
    "#Testing code, should all equal print true\n",
    "fib = Fibonacci()\n",
    "\n",
    "print fib.calculate(0) == 0\n",
    "print fib.calculate(1) == 1\n",
    "print fib.calculate(2) == 1\n",
    "print fib.calculate(3) == 2\n",
    "print fib.calculate(20) == 6765 \n",
    "print fib.next() == fib.calculate(0)\n",
    "print fib.next() == fib.calculate(1)\n",
    "print fib.next() == fib.calculate(2)\n",
    "fib.writeToFile(30, \"fib.out\")"
   ]
  },
  {
   "cell_type": "markdown",
   "metadata": {},
   "source": [
    "Write a function solve(h,l) which solves the folowing classic puzzle: \n",
    "\n",
    "We count h heads and l legs among the chickens and rabbits in a farm. How many rabbits and how many chickens do we have? where h and l are the parameters passed to the function solve\n",
    "\n",
    "    >> numheads=35\n",
    "    >> numlegs=94\n",
    "    >> solutions=solve(numheads,numlegs)\n",
    "    >> print solutions\n",
    "\n"
   ]
  },
  {
   "cell_type": "code",
   "execution_count": 8,
   "metadata": {
    "collapsed": false
   },
   "outputs": [
    {
     "name": "stdout",
     "output_type": "stream",
     "text": [
      "((12.0, 23.0), (12, 23))\n"
     ]
    }
   ],
   "source": [
    "def brutesolve(h,l):\n",
    "    for chickens in range(0,h+1):\n",
    "        rabbits = h-chickens\n",
    "        legs = rabbits*4 + chickens*2\n",
    "        if legs == l:\n",
    "            return (rabbits, chickens)\n",
    "    return (None, None)\n",
    "def solve(h,l):\n",
    "    l = float(l)\n",
    "    rabbits = l/2 - h\n",
    "    chickens = h-rabbits\n",
    "    if rabbits%1 == 0 and chickens%1 == 0:\n",
    "        return (rabbits, chickens)\n",
    "    else:\n",
    "        return(None,None)\n",
    "\n",
    "\n",
    "\n",
    "numheads = 35\n",
    "numlegs = 94\n",
    "solutions = solve(numheads,numlegs)\n",
    "brutesolutions = brutesolve(numheads,numlegs)\n",
    "\n",
    "print(solutions,brutesolutions)"
   ]
  },
  {
   "cell_type": "code",
   "execution_count": 7,
   "metadata": {
    "collapsed": false
   },
   "outputs": [
    {
     "data": {
      "text/plain": [
       "0.3333300000000001"
      ]
     },
     "execution_count": 7,
     "metadata": {},
     "output_type": "execute_result"
    }
   ],
   "source": [
    "v = 3.33333\n",
    "v%1"
   ]
  },
  {
   "cell_type": "code",
   "execution_count": null,
   "metadata": {
    "collapsed": true
   },
   "outputs": [],
   "source": []
  },
  {
   "cell_type": "code",
   "execution_count": null,
   "metadata": {
    "collapsed": true
   },
   "outputs": [],
   "source": []
  }
 ],
 "metadata": {
  "anaconda-cloud": {},
  "kernelspec": {
   "display_name": "Python [default]",
   "language": "python",
   "name": "python2"
  },
  "language_info": {
   "codemirror_mode": {
    "name": "ipython",
    "version": 2
   },
   "file_extension": ".py",
   "mimetype": "text/x-python",
   "name": "python",
   "nbconvert_exporter": "python",
   "pygments_lexer": "ipython2",
   "version": "2.7.12"
  }
 },
 "nbformat": 4,
 "nbformat_minor": 0
}
